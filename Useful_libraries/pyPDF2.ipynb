{
 "cells": [
  {
   "cell_type": "markdown",
   "metadata": {},
   "source": [
    "# pyPDF2 Tutorial"
   ]
  },
  {
   "cell_type": "code",
   "execution_count": 1,
   "metadata": {},
   "outputs": [],
   "source": [
    "import PyPDF2 as pdf\n",
    "from PyPDF2 import PdfReader, PdfWriter"
   ]
  },
  {
   "cell_type": "code",
   "execution_count": 2,
   "metadata": {},
   "outputs": [
    {
     "name": "stdout",
     "output_type": "stream",
     "text": [
      "['DocumentInformation', 'PageObject', 'PageRange', 'PaperSize', 'PasswordType', 'PdfFileMerger', 'PdfFileReader', 'PdfFileWriter', 'PdfMerger', 'PdfReader', 'PdfWriter', 'Transformation', '__all__', '__builtins__', '__cached__', '__doc__', '__file__', '__loader__', '__name__', '__package__', '__path__', '__spec__', '__version__', '__warningregistry__', '_cmap', '_codecs', '_encryption', '_merger', '_page', '_protocols', '_reader', '_security', '_utils', '_version', '_writer', 'constants', 'errors', 'filters', 'generic', 'pagerange', 'papersizes', 'parse_filename_page_ranges', 'types', 'warnings', 'xmp']\n"
     ]
    }
   ],
   "source": [
    "print(dir(pdf))"
   ]
  },
  {
   "cell_type": "code",
   "execution_count": 3,
   "metadata": {},
   "outputs": [],
   "source": [
    "# Reading a PDF file\n",
    "file = open(\"./sample.pdf\",\"rb\")\n",
    "\n",
    "reader = PdfReader(file)"
   ]
  },
  {
   "cell_type": "code",
   "execution_count": 4,
   "metadata": {},
   "outputs": [
    {
     "data": {
      "text/plain": [
       "{'/Producer': 'PyFPDF 1.7.2 http://pyfpdf.googlecode.com/',\n",
       " '/CreationDate': 'D:20230808144017'}"
      ]
     },
     "execution_count": 4,
     "metadata": {},
     "output_type": "execute_result"
    }
   ],
   "source": [
    "# Get metadata of PDF doc\n",
    "info = reader.metadata\n",
    "info"
   ]
  },
  {
   "cell_type": "markdown",
   "metadata": {},
   "source": [
    "### Number of Pages in PDF"
   ]
  },
  {
   "cell_type": "code",
   "execution_count": 5,
   "metadata": {},
   "outputs": [
    {
     "data": {
      "text/plain": [
       "2"
      ]
     },
     "execution_count": 5,
     "metadata": {},
     "output_type": "execute_result"
    }
   ],
   "source": [
    "# Get number of pages\n",
    "num_pages = len(reader.pages)\n",
    "num_pages"
   ]
  },
  {
   "cell_type": "code",
   "execution_count": 6,
   "metadata": {},
   "outputs": [
    {
     "data": {
      "text/plain": [
       "'Cras gravida lectus eu nulla malesuada, vitae rhoncus lectus ultricies. Maecenas quis odio sem. Ut\\nut diam neque. Curabitur eu risus nec nisi tempus mattis. Proin eget ante arcu. Nullam\\ncondimentum urna elit, id gravida tortor ullamcorper in. Suspendisse et neque odio. Suspendisse\\npotenti. Pellentesque sodales, ipsum vitae fermentum varius, velit dui gravida quam, non finibus\\nlectus dolor vel sem. Nulla facilisi.\\nSed a erat vel justo ullamcorper vulputate nec non tortor. Mauris ac arcu et turpis bibendum luctus\\nut et sapien. Sed at turpis luctus, congue ex eu, convallis sapien. Nullam nec urna quis mauris\\naccumsan aliquam. Maecenas in magna sit amet dolor interdum feugiat non eu mi. Ut nec odio et\\nsem dictum malesuada. Nam ut velit vestibulum, dapibus ligula a, suscipit orci. Nullam aliquam vel\\nurna eu tristique. Nulla sit amet quam ut est iaculis euismod ac nec nisl. Cras quis nunc vitae magna\\ntincidunt dapibus non sit amet eros.'"
      ]
     },
     "execution_count": 6,
     "metadata": {},
     "output_type": "execute_result"
    }
   ],
   "source": [
    "# extract text\n",
    "text = reader.pages[1].extract_text()\n",
    "text"
   ]
  },
  {
   "cell_type": "markdown",
   "metadata": {},
   "source": [
    "### Get Metadata from PDF"
   ]
  },
  {
   "cell_type": "code",
   "execution_count": 7,
   "metadata": {},
   "outputs": [
    {
     "data": {
      "text/plain": [
       "{'/Producer': 'PyFPDF 1.7.2 http://pyfpdf.googlecode.com/',\n",
       " '/CreationDate': 'D:20230808144017'}"
      ]
     },
     "execution_count": 7,
     "metadata": {},
     "output_type": "execute_result"
    }
   ],
   "source": [
    "# Function to get metadata\n",
    "def get_pdf_metadata(pdf_file_path):\n",
    "    with open(pdf_file_path, \"rb\") as f:\n",
    "        reader = PdfReader(f)\n",
    "        info = reader.metadata\n",
    "    return info\n",
    "\n",
    "get_pdf_metadata(\"./sample.pdf\")"
   ]
  },
  {
   "cell_type": "markdown",
   "metadata": {},
   "source": [
    "### Get Text from PDF"
   ]
  },
  {
   "cell_type": "code",
   "execution_count": 8,
   "metadata": {},
   "outputs": [
    {
     "data": {
      "text/plain": [
       "'Lorem ipsum dolor sit amet, consectetur adipiscing elit. Sed pharetra neque vel elit scelerisque, eu\\naliquam justo faucibus. Vivamus faucibus risus ut enim scelerisque, nec varius tortor convallis.\\nFusce aliquam ex in tellus mollis dignissim. Proin ullamcorper, libero nec feugiat cursus, nunc nisl\\nvarius nulla, in sollicitudin mi eros nec risus. Nulla eu vestibulum purus. Vivamus tincidunt justo felis,\\neu bibendum nulla efficitur eget. Suspendisse a lacus purus.\\nPraesent sit amet leo eget mi tristique interdum. Integer ac eros turpis. Sed luctus, purus in\\nimperdiet consectetur, quam purus aliquam nibh, ac dictum metus purus a lectus. Maecenas\\nfacilisis, odio nec facilisis commodo, sapien dui lobortis mauris, vel commodo nulla velit vel dolor. In\\ncongue elit et odio vulputate, a facilisis ipsum dapibus. Sed sagittis libero in tellus consectetur, non\\ndictum nisi cursus. Sed quis velit et sem elementum tempus. Ut facilisis, sapien at egestas mattis,\\nturpis metus cursus justo, nec luctus eros purus eu libero. Proin ullamcorper ex non mi finibus\\nbibendum. Nam ut posuere ex.\\nVestibulum non tortor ut elit placerat viverra a vel mi. In bibendum sapien vitae nisi euismod, in\\nconsequat est elementum. Pellentesque habitant morbi tristique senectus et netus et malesuada\\nfames ac turpis egestas. Maecenas ultrices sagittis felis, non sollicitudin elit eleifend eu. Nulla\\nfacilisi. Aenean cursus, turpis eget pharetra gravida, enim neque egestas velit, ac interdum risus\\nante id est. Etiam non augue ex. Sed vel lorem et ex laoreet dignissim. Nunc luctus at neque non\\nhendrerit. Donec ac risus eget est tristique congue. Cras vitae consectetur elit, quis semper nulla.\\nNam ut ex quis orci posuere dictum.\\nDonec a velit rhoncus, fermentum urna in, fermentum turpis. In hac habitasse platea dictumst. Proin\\nconsequat, purus non vulputate tempus, neque urna elementum lacus, ut faucibus velit justo et\\nlectus. Pellentesque ut metus ut sapien fermentum scelerisque. Integer nec nulla id risus malesuada\\nsodales. Vivamus hendrerit nunc eu arcu efficitur fermentum. Proin pellentesque euismod velit et\\nconvallis.\\nNunc venenatis erat in quam malesuada eleifend. Proin gravida, lorem ac luctus auctor, quam purus\\ngravida nisi, nec vulputate erat enim eu nulla. Nulla facilisi. Nam posuere vel ipsum eget varius.\\nInteger lacinia nibh vitae nisl pellentesque dignissim. Nunc eget est nisi. Etiam eu elit ex. Ut non\\nsapien eu felis suscipit scelerisque eget in neque. Maecenas nec neque vel arcu dapibus tristique.\\nCurabitur gravida, erat et pellentesque dapibus, felis ex gravida nunc, ac volutpat nulla eros in elit.\\nVivamus at neque neque. Curabitur at purus nec erat rhoncus volutpat sit amet eu lectus.\\nSuspendisse cursus nec augue eu faucibus. Sed non tristique odio, ac faucibus mauris. Cras\\ntincidunt velit vel nisi feugiat tincidunt.\\nFusce vel nulla in libero faucibus ullamcorper. Sed sollicitudin turpis nec bibendum scelerisque.\\nInteger consequat mauris quis sapien volutpat, in malesuada libero bibendum. Suspendisse congue\\nrisus ac urna sollicitudin feugiat. Nulla facilisi. Suspendisse potenti. Donec ultrices lacinia tortor, vel\\nmalesuada odio accumsan nec. Duis vel libero scelerisque, eleifend velit eu, bibendum neque.\\nDonec condimentum, ex vitae facilisis dapibus, erat elit aliquet turpis, eu eleifend nisl purus ut odio.\\nAenean dictum quis ligula vitae euismod. Duis sit amet bibendum quam. Fusce iaculis semper nunc\\na consequat.\\nNam eget varius est. Quisque nec odio eu ligula bibendum faucibus. Pellentesque habitant morbi\\ntristique senectus et netus et malesuada fames ac turpis egestas. Aenean tempus, neque vitae\\ntincidunt venenatis, purus odio luctus elit, vel euismod ipsum nisl nec magna. Nam euismod elit velit,\\neget aliquam est congue ac. Duis tempus nisi a diam congue, a porttitor lectus convallis. Nulla\\nfacilisi. Etiam ac magna a erat vehicula fermentum id vel odio. Nunc bibendum felis sit amet arcu\\ncursus, sit amet cursus tortor tincidunt. Integer a velit turpis. Suspendisse sagittis suscipit justo, nec\\nmattis odio mattis ac. Aenean facilisis nec elit non feugiat. Donec at bibendum elit. Fusce a dapibus\\nnunc. Cras gravida lectus eu nulla malesuada, vitae rhoncus lectus ultricies. Maecenas quis odio sem. Ut\\nut diam neque. Curabitur eu risus nec nisi tempus mattis. Proin eget ante arcu. Nullam\\ncondimentum urna elit, id gravida tortor ullamcorper in. Suspendisse et neque odio. Suspendisse\\npotenti. Pellentesque sodales, ipsum vitae fermentum varius, velit dui gravida quam, non finibus\\nlectus dolor vel sem. Nulla facilisi.\\nSed a erat vel justo ullamcorper vulputate nec non tortor. Mauris ac arcu et turpis bibendum luctus\\nut et sapien. Sed at turpis luctus, congue ex eu, convallis sapien. Nullam nec urna quis mauris\\naccumsan aliquam. Maecenas in magna sit amet dolor interdum feugiat non eu mi. Ut nec odio et\\nsem dictum malesuada. Nam ut velit vestibulum, dapibus ligula a, suscipit orci. Nullam aliquam vel\\nurna eu tristique. Nulla sit amet quam ut est iaculis euismod ac nec nisl. Cras quis nunc vitae magna\\ntincidunt dapibus non sit amet eros.'"
      ]
     },
     "execution_count": 8,
     "metadata": {},
     "output_type": "execute_result"
    }
   ],
   "source": [
    "# Function to get text from PDF\n",
    "def get_text_from_pdf(pdf_file_path):\n",
    "    with open(pdf_file_path, \"rb\") as f:\n",
    "        reader = PdfReader(f)\n",
    "        results = []\n",
    "        for i in range(0, len(reader.pages)):\n",
    "            text = reader.pages[i].extract_text()\n",
    "            results.append(text)\n",
    "    return \"\".join(results) # convert list to a single doc\n",
    "\n",
    "get_text_from_pdf(\"./sample.pdf\")"
   ]
  },
  {
   "cell_type": "markdown",
   "metadata": {},
   "source": [
    "### Splitting PDFs\n",
    "- Into Multiple PDFs (All Pages)\n",
    "- Upto a Particular Page (Range of Pages)\n",
    "- Last Page"
   ]
  },
  {
   "cell_type": "code",
   "execution_count": 16,
   "metadata": {},
   "outputs": [],
   "source": [
    "# Splitting PDF into multiple PDF pages\n",
    "import os\n",
    "def split_pdf(pdf_file_path):\n",
    "    with open(pdf_file_path, \"rb\") as f:\n",
    "        reader = PdfReader(f)\n",
    "        # get all the pages\n",
    "        for page_num in range(0,len(reader.pages)):\n",
    "            selected_page = reader.pages[page_num]\n",
    "\n",
    "            # writer to write\n",
    "            writer = PdfWriter()\n",
    "            writer.add_page(selected_page)\n",
    "\n",
    "            fileName = os.path.splitext(pdf_file_path)[0]\n",
    "            output_fileName = f\"{fileName}_page_{page_num+1}.pdf\"\n",
    "\n",
    "            # save and compile to PDF\n",
    "            with open(output_fileName,\"wb\") as out:\n",
    "                writer.write(out)\n",
    "\n",
    "            print(\"Created a PDF: {}\".format(output_fileName))\n",
    "            "
   ]
  },
  {
   "cell_type": "code",
   "execution_count": 17,
   "metadata": {},
   "outputs": [
    {
     "name": "stdout",
     "output_type": "stream",
     "text": [
      "Created a PDF: ./sample_page_1.pdf\n",
      "Created a PDF: ./sample_page_2.pdf\n"
     ]
    }
   ],
   "source": [
    "split_pdf(\"./sample.pdf\")"
   ]
  },
  {
   "cell_type": "code",
   "execution_count": 20,
   "metadata": {},
   "outputs": [],
   "source": [
    "# Split PDF upto a particular page\n",
    "import os\n",
    "def get_pdf_upto(pdf_file_path, start_page:int=0, end_page:int=0):\n",
    "    with open(pdf_file_path, \"rb\") as f:\n",
    "        reader = PdfReader(f)\n",
    "\n",
    "        writer = PdfWriter()\n",
    "\n",
    "        # get all the pages\n",
    "        for page_num in range(start_page,end_page):\n",
    "            selected_page = reader.pages[page_num]\n",
    "\n",
    "            # writer to write \n",
    "            writer.add_page(selected_page)\n",
    "\n",
    "            fileName = os.path.splitext(pdf_file_path)[0]\n",
    "            output_fileName = f\"{fileName}_from_{start_page}_to_{end_page}.pdf\"\n",
    "\n",
    "        # save and compile to PDF\n",
    "        with open(output_fileName,\"wb\") as out:\n",
    "            writer.write(out)\n",
    "\n",
    "            print(\"Created a PDF: {}\".format(output_fileName))\n",
    "            "
   ]
  },
  {
   "cell_type": "code",
   "execution_count": 21,
   "metadata": {},
   "outputs": [
    {
     "name": "stdout",
     "output_type": "stream",
     "text": [
      "Created a PDF: ./sample2_from_0_to_3.pdf\n"
     ]
    }
   ],
   "source": [
    "get_pdf_upto(\"./sample2.pdf\", 0, 3)"
   ]
  },
  {
   "cell_type": "code",
   "execution_count": 23,
   "metadata": {},
   "outputs": [],
   "source": [
    "# Get last page of PDF\n",
    "def get_pdf_last_page(pdf_file_path):\n",
    "    with open(pdf_file_path, \"rb\") as f:\n",
    "        reader = PdfReader(f)\n",
    "\n",
    "        writer = PdfWriter()\n",
    "\n",
    "        selected_page = reader.pages[len(reader.pages)-1]\n",
    "\n",
    "        # writer to write \n",
    "        writer.add_page(selected_page)\n",
    "\n",
    "        fileName = os.path.splitext(pdf_file_path)[0]\n",
    "        output_fileName = f\"{fileName}_last_page.pdf\"\n",
    "\n",
    "        # save and compile to PDF\n",
    "        with open(output_fileName,\"wb\") as out:\n",
    "            writer.write(out)\n",
    "\n",
    "            print(\"Created a PDF: {}\".format(output_fileName))"
   ]
  },
  {
   "cell_type": "code",
   "execution_count": 24,
   "metadata": {},
   "outputs": [
    {
     "name": "stdout",
     "output_type": "stream",
     "text": [
      "Created a PDF: ./sample2_last_page.pdf\n"
     ]
    }
   ],
   "source": [
    "get_pdf_last_page(\"./sample2.pdf\")"
   ]
  },
  {
   "cell_type": "markdown",
   "metadata": {},
   "source": [
    "### Merging PDFs"
   ]
  },
  {
   "cell_type": "code",
   "execution_count": 25,
   "metadata": {},
   "outputs": [],
   "source": [
    "# fetch all PDF files\n",
    "import os\n",
    "def fetch_all_files(parent_folder:str):\n",
    "    target_files = []\n",
    "    for path, subdirs, files in os.walk(parent_folder):\n",
    "        for name in files:\n",
    "            if name.endswith(\".pdf\"):\n",
    "                target_files.append(os.path.join(path,name))\n",
    "    return target_files"
   ]
  },
  {
   "cell_type": "code",
   "execution_count": 27,
   "metadata": {},
   "outputs": [
    {
     "data": {
      "text/plain": [
       "['./mergeMe/sample_page_1.pdf', './mergeMe/sample_page_2.pdf']"
      ]
     },
     "execution_count": 27,
     "metadata": {},
     "output_type": "execute_result"
    }
   ],
   "source": [
    "fetch_all_files(\"./mergeMe/\")"
   ]
  },
  {
   "cell_type": "code",
   "execution_count": 34,
   "metadata": {},
   "outputs": [],
   "source": [
    "from PyPDF2 import PdfMerger\n",
    "def merge_pdf(list_of_pdfs, output_file_name=\"final_merged_file.pdf\"):\n",
    "    merger = PdfMerger()\n",
    "    with open(output_file_name, \"wb\") as f:\n",
    "        for file in list_of_pdfs:\n",
    "            merger.append(file)\n",
    "        merger.write(f)"
   ]
  },
  {
   "cell_type": "code",
   "execution_count": 35,
   "metadata": {},
   "outputs": [],
   "source": [
    "pdf_list = fetch_all_files(\"./mergeMe/\")"
   ]
  },
  {
   "cell_type": "code",
   "execution_count": 36,
   "metadata": {},
   "outputs": [],
   "source": [
    "merge_pdf(pdf_list)"
   ]
  },
  {
   "cell_type": "markdown",
   "metadata": {},
   "source": [
    "### Rotate a PDF Page"
   ]
  },
  {
   "cell_type": "code",
   "execution_count": 11,
   "metadata": {},
   "outputs": [],
   "source": [
    "from PyPDF2 import PdfReader, PdfWriter\n",
    "import os\n",
    "def rotate_pdf(pdf_file_path, page_num:int, rotation:int=90):\n",
    "    with open(pdf_file_path,\"rb\") as f:\n",
    "        reader = PdfReader(f)\n",
    "        writer = PdfWriter()\n",
    "\n",
    "        writer.add_page(reader.pages[page_num])\n",
    "\n",
    "        # Rotate\n",
    "        writer.pages[0].rotate(rotation)\n",
    "        \n",
    "        fileName = os.path.splitext(pdf_file_path)[0]\n",
    "        output_fileName = f\"{fileName}_{rotation}_rotated_page.pdf\"\n",
    "\n",
    "        # save and compile to PDF\n",
    "        with open(output_fileName,\"wb\") as out:\n",
    "            writer.write(out)\n",
    "\n",
    "        print(\"Rotated a page: {}\".format(output_fileName))"
   ]
  },
  {
   "cell_type": "code",
   "execution_count": 12,
   "metadata": {},
   "outputs": [
    {
     "name": "stdout",
     "output_type": "stream",
     "text": [
      "Rotated a page: ./sample_90_rotated_page.pdf\n"
     ]
    }
   ],
   "source": [
    "rotate_pdf(\"./sample.pdf\", 0)"
   ]
  },
  {
   "cell_type": "code",
   "execution_count": 13,
   "metadata": {},
   "outputs": [
    {
     "name": "stdout",
     "output_type": "stream",
     "text": [
      "Rotated a page: ./sample2_180_rotated_page.pdf\n"
     ]
    }
   ],
   "source": [
    "rotate_pdf(\"./sample2.pdf\", 2, 180) # rotation angle must be multiple of 90"
   ]
  },
  {
   "cell_type": "markdown",
   "metadata": {},
   "source": [
    "### Working with images in a PDF"
   ]
  },
  {
   "cell_type": "code",
   "execution_count": 3,
   "metadata": {},
   "outputs": [],
   "source": [
    "from PyPDF2 import PdfReader"
   ]
  },
  {
   "cell_type": "code",
   "execution_count": 4,
   "metadata": {},
   "outputs": [],
   "source": [
    "# Extract Images from a PDF\n",
    "def extract_images_from_pdf(pdf_file_path):\n",
    "    with open(pdf_file_path,\"rb\") as f:\n",
    "        reader = PdfReader(f)\n",
    "        for page_num in range(0, len(reader.pages)):\n",
    "            selected_page = reader.pages[page_num]\n",
    "\n",
    "            # Get the images\n",
    "            for img_file_obj in selected_page.images:\n",
    "                with open(img_file_obj.name,\"wb\") as out:\n",
    "                    out.write(img_file_obj.data)"
   ]
  },
  {
   "cell_type": "code",
   "execution_count": 5,
   "metadata": {},
   "outputs": [],
   "source": [
    "extract_images_from_pdf(\"./sample_pdf_with_images.pdf\")"
   ]
  },
  {
   "cell_type": "code",
   "execution_count": 9,
   "metadata": {},
   "outputs": [],
   "source": [
    "from PIL import Image\n",
    "import os"
   ]
  },
  {
   "cell_type": "code",
   "execution_count": 10,
   "metadata": {},
   "outputs": [],
   "source": [
    "# Convert Image to PDF\n",
    "def convert_image_to_pdf(image_file_path):\n",
    "    my_img = Image.open(image_file_path)\n",
    "    img = my_img.convert(\"RGB\")\n",
    "    fileName = f\"{os.path.splitext(image_file_path)[0]}.pdf\"\n",
    "    img.save(fileName)"
   ]
  },
  {
   "cell_type": "code",
   "execution_count": 11,
   "metadata": {},
   "outputs": [],
   "source": [
    "convert_image_to_pdf(\"./Im1.jpg\")"
   ]
  }
 ],
 "metadata": {
  "kernelspec": {
   "display_name": "Python 3",
   "language": "python",
   "name": "python3"
  },
  "language_info": {
   "codemirror_mode": {
    "name": "ipython",
    "version": 3
   },
   "file_extension": ".py",
   "mimetype": "text/x-python",
   "name": "python",
   "nbconvert_exporter": "python",
   "pygments_lexer": "ipython3",
   "version": "3.10.8"
  },
  "orig_nbformat": 4
 },
 "nbformat": 4,
 "nbformat_minor": 2
}
